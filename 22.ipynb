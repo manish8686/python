{
 "cells": [
  {
   "cell_type": "code",
   "execution_count": 1,
   "metadata": {},
   "outputs": [
    {
     "name": "stdout",
     "output_type": "stream",
     "text": [
      "the number is less than 15\n"
     ]
    }
   ],
   "source": [
    "# if stataement\n",
    "x=10;\n",
    "if(x<15):\n",
    "  print(\"the number is less than 15\");\n"
   ]
  },
  {
   "cell_type": "code",
   "execution_count": 4,
   "metadata": {},
   "outputs": [],
   "source": [
    "x=10;\n",
    "if(x>15):\n",
    " print(\"hello\")"
   ]
  },
  {
   "cell_type": "code",
   "execution_count": 5,
   "metadata": {},
   "outputs": [
    {
     "name": "stdout",
     "output_type": "stream",
     "text": [
      "manish\n"
     ]
    }
   ],
   "source": [
    "# if else condition\n",
    "a=11;\n",
    "if(a<11):\n",
    "    print(\"praveen varma\");\n",
    "else:\n",
    "    print(\"manish\");"
   ]
  },
  {
   "cell_type": "code",
   "execution_count": 6,
   "metadata": {},
   "outputs": [
    {
     "name": "stdout",
     "output_type": "stream",
     "text": [
      "y is greater\n"
     ]
    }
   ],
   "source": [
    "# to compare two numbers\n",
    "x=10\n",
    "y=20;\n",
    "if(x>y):\n",
    "    print(\"x is greater\");\n",
    "else:\n",
    "      print(\"y is greater\");"
   ]
  },
  {
   "cell_type": "code",
   "execution_count": 7,
   "metadata": {},
   "outputs": [
    {
     "name": "stdout",
     "output_type": "stream",
     "text": [
      "90\n"
     ]
    }
   ],
   "source": [
    "a=9\n",
    "b=10\n",
    "if(a==b):\n",
    "    print(a**2);\n",
    "else:\n",
    "    print(a*b);"
   ]
  },
  {
   "cell_type": "code",
   "execution_count": 8,
   "metadata": {},
   "outputs": [
    {
     "name": "stdout",
     "output_type": "stream",
     "text": [
      "200\n"
     ]
    }
   ],
   "source": [
    "a=10\n",
    "b=20\n",
    "\n",
    "if(a==b):\n",
    "    print(a**2);\n",
    "else:\n",
    "    print(a*b);"
   ]
  },
  {
   "cell_type": "code",
   "execution_count": 9,
   "metadata": {},
   "outputs": [
    {
     "name": "stdout",
     "output_type": "stream",
     "text": [
      "the number is zero\n"
     ]
    }
   ],
   "source": [
    "x=0;\n",
    "if(x>0):\n",
    "    print(\"positive\");\n",
    "elif(x<0):\n",
    "        print(\"negative\");\n",
    "else:\n",
    "    print(\"the number is zero\");"
   ]
  },
  {
   "cell_type": "code",
   "execution_count": 10,
   "metadata": {},
   "outputs": [
    {
     "name": "stdout",
     "output_type": "stream",
     "text": [
      "1\n",
      "2\n",
      "3\n",
      "4\n",
      "5\n",
      "6\n",
      "7\n",
      "8\n",
      "9\n",
      "10\n"
     ]
    }
   ],
   "source": [
    "# while statements\n",
    "n=1;\n",
    "while(n<=10):\n",
    "    print(n);\n",
    "    n=n+1;"
   ]
  },
  {
   "cell_type": "code",
   "execution_count": 11,
   "metadata": {},
   "outputs": [
    {
     "name": "stdout",
     "output_type": "stream",
     "text": [
      "10\n",
      "9\n",
      "8\n",
      "7\n",
      "6\n",
      "5\n",
      "4\n",
      "3\n",
      "2\n",
      "1\n"
     ]
    }
   ],
   "source": [
    "# print from 10 t0 1\n",
    "n=10;\n",
    "while(n>=1):\n",
    "    print(n);\n",
    "    n=n-1;"
   ]
  },
  {
   "cell_type": "code",
   "execution_count": 12,
   "metadata": {},
   "outputs": [
    {
     "name": "stdout",
     "output_type": "stream",
     "text": [
      "22\n",
      "23\n",
      "24\n",
      "25\n",
      "26\n",
      "27\n",
      "28\n",
      "29\n",
      "30\n",
      "31\n",
      "32\n",
      "33\n",
      "34\n",
      "35\n",
      "36\n",
      "37\n",
      "38\n",
      "39\n",
      "40\n",
      "41\n",
      "42\n",
      "43\n",
      "44\n",
      "45\n"
     ]
    }
   ],
   "source": [
    "#print from 22 to 45\n",
    "n=22;\n",
    "m=45;\n",
    "while(n<=m):\n",
    "    print(n);\n",
    "    n=n+1;"
   ]
  },
  {
   "cell_type": "code",
   "execution_count": 13,
   "metadata": {},
   "outputs": [
    {
     "name": "stdout",
     "output_type": "stream",
     "text": [
      "2550\n"
     ]
    }
   ],
   "source": [
    "a=1;\n",
    "j=0;\n",
    "while(a<=100):\n",
    "    if(a%2==0):\n",
    "        j=j+a;\n",
    "    a=a+1;\n",
    "print(j);"
   ]
  },
  {
   "cell_type": "code",
   "execution_count": 14,
   "metadata": {},
   "outputs": [
    {
     "name": "stdout",
     "output_type": "stream",
     "text": [
      "enter lower limit24\n",
      "enter upper limit35\n",
      "59\n"
     ]
    }
   ],
   "source": [
    "#dynamic data input\n",
    "x = int(input(\"enter lower limit\"));\n",
    "y = int(input(\"enter upper limit\"));\n",
    "k = x+y;\n",
    "print(k);"
   ]
  },
  {
   "cell_type": "code",
   "execution_count": 15,
   "metadata": {},
   "outputs": [
    {
     "name": "stdout",
     "output_type": "stream",
     "text": [
      "enter value1223\n",
      "3\n",
      "2\n",
      "2\n",
      "1\n"
     ]
    }
   ],
   "source": [
    "#reversing number and printing digits\n",
    "a = int(input(\"enter value\"));\n",
    "while(a>0):\n",
    "    b=a%10;\n",
    "    print(b);\n",
    "    a=a/10;\n",
    "    a= int(a);"
   ]
  },
  {
   "cell_type": "code",
   "execution_count": 16,
   "metadata": {},
   "outputs": [
    {
     "name": "stdout",
     "output_type": "stream",
     "text": [
      "enter value234\n",
      "6\n"
     ]
    }
   ],
   "source": [
    "#sum of even digits in a number\n",
    "a = int(input(\"enter value\"));\n",
    "j=0;\n",
    "while(a>0):\n",
    "    b=a%10;\n",
    "    if(b%2==0):\n",
    "        j=j+b;\n",
    "    a=a/10;\n",
    "    a= int(a);\n",
    "print(j);"
   ]
  },
  {
   "cell_type": "code",
   "execution_count": 17,
   "metadata": {},
   "outputs": [
    {
     "name": "stdout",
     "output_type": "stream",
     "text": [
      "enter value123\n",
      "three\n",
      "two\n",
      "one\n"
     ]
    }
   ],
   "source": [
    "a = int(input(\"enter value\"));\n",
    "\n",
    "\n",
    "\n",
    "k=0;\n",
    "while(a>0):\n",
    "    b=a%10;\n",
    "    if(b==0):\n",
    "        print(\"zero\");\n",
    "    elif(b==9):\n",
    "        print(\"nine\");\n",
    "        \n",
    "    elif(b==1):\n",
    "        print(\"one\");\n",
    "        ;\n",
    "    elif(b==2):\n",
    "        print(\"two\");\n",
    "        \n",
    "    elif(b==3):\n",
    "        print(\"three\");\n",
    "        \n",
    "    elif(b==4):\n",
    "        print(\"four\");\n",
    "        \n",
    "    elif(b==5):\n",
    "        print(\"five\");\n",
    "        \n",
    "    elif(b==6):\n",
    "        print(\"six\");\n",
    "        \n",
    "    elif(b==7):\n",
    "        print(\"seven\");\n",
    "        \n",
    "    elif(b==8):\n",
    "        print(\"eight\");\n",
    "        \n",
    "        \n",
    "    a=a/10;\n",
    "    a=int(a);"
   ]
  },
  {
   "cell_type": "code",
   "execution_count": 18,
   "metadata": {},
   "outputs": [
    {
     "name": "stdout",
     "output_type": "stream",
     "text": [
      "enter value120\n",
      "enter value220\n",
      "enter value3\n",
      "20\n"
     ]
    }
   ],
   "source": [
    "a = int(input(\"enter value\"));\n",
    "o = int(input(\"enter value\"));\n",
    "c = int(input(\"enter value\"));\n",
    "k=0;\n",
    "while(a<=o):\n",
    "    l=a\n",
    "    while(l>0):\n",
    "        \n",
    "        \n",
    "        b=l%10;\n",
    "        if(b==c):\n",
    "            k=k+1;\n",
    "        l=l/10;\n",
    "        l= int(l);\n",
    "    a=a+1;\n",
    "print(k);"
   ]
  },
  {
   "cell_type": "code",
   "execution_count": 19,
   "metadata": {},
   "outputs": [
    {
     "name": "stdout",
     "output_type": "stream",
     "text": [
      "1 2 3 4 5 6 7 8 9 \n",
      "1 2 3 4 \n"
     ]
    }
   ],
   "source": [
    "def sayhi(n):\n",
    "    cnt = 1;\n",
    "    while(cnt<=n):\n",
    "        print(cnt,end=\" \");\n",
    "        cnt=cnt+1;\n",
    "    print();\n",
    "    return;\n",
    "sayhi(9);\n",
    "sayhi(4);"
   ]
  },
  {
   "cell_type": "code",
   "execution_count": 20,
   "metadata": {},
   "outputs": [
    {
     "name": "stdout",
     "output_type": "stream",
     "text": [
      "120\n",
      "24\n"
     ]
    }
   ],
   "source": [
    "# fact\n",
    "def fact(n):\n",
    "    fac=1;\n",
    "    while(n!=0):\n",
    "        fac=fac*n;\n",
    "        n=n-1;\n",
    "    return fac;\n",
    "print(fact(5));\n",
    "print(fact(4));"
   ]
  },
  {
   "cell_type": "code",
   "execution_count": 21,
   "metadata": {},
   "outputs": [
    {
     "name": "stdout",
     "output_type": "stream",
     "text": [
      "2\n"
     ]
    }
   ],
   "source": [
    "# palindrome\n",
    "def countpalindrome(n1,n2):\n",
    "    cou=0;\n",
    "    while(n1<=n2):\n",
    "        k=n1;\n",
    "        u=n1;\n",
    "        sum=0;\n",
    "        while(k!=0):\n",
    "            r=k%10;\n",
    "            sum=sum*10+r;\n",
    "            k=k/10;\n",
    "            k=int(k);\n",
    "        if(sum==u):\n",
    "            cou=cou+1;\n",
    "        n1=n1+1;\n",
    "    \n",
    "            \n",
    "        \n",
    "    return cou;\n",
    "print(countpalindrome(10,30))"
   ]
  },
  {
   "cell_type": "code",
   "execution_count": null,
   "metadata": {},
   "outputs": [],
   "source": []
  }
 ],
 "metadata": {
  "kernelspec": {
   "display_name": "Python 3",
   "language": "python",
   "name": "python3"
  },
  "language_info": {
   "codemirror_mode": {
    "name": "ipython",
    "version": 3
   },
   "file_extension": ".py",
   "mimetype": "text/x-python",
   "name": "python",
   "nbconvert_exporter": "python",
   "pygments_lexer": "ipython3",
   "version": "3.7.3"
  }
 },
 "nbformat": 4,
 "nbformat_minor": 2
}
