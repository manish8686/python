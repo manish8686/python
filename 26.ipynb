{
 "cells": [
  {
   "cell_type": "code",
   "execution_count": 3,
   "metadata": {},
   "outputs": [
    {
     "name": "stdout",
     "output_type": "stream",
     "text": [
      "True\n",
      "False\n"
     ]
    }
   ],
   "source": [
    "s=\"application\"\n",
    "s1=\"Anil\"\n",
    "print(s.islower())\n",
    "print(s1.isupper())"
   ]
  },
  {
   "cell_type": "code",
   "execution_count": 10,
   "metadata": {},
   "outputs": [
    {
     "name": "stdout",
     "output_type": "stream",
     "text": [
      "True\n",
      "True\n",
      "False\n"
     ]
    }
   ],
   "source": [
    "s=\"123\"\n",
    "s1=\"abc\"\n",
    "s2=\"12ab\"\n",
    "print(s.isnumeric())\n",
    "print(s1.isalpha())\n",
    "print(s2.isalpha())"
   ]
  },
  {
   "cell_type": "code",
   "execution_count": 18,
   "metadata": {},
   "outputs": [
    {
     "name": "stdout",
     "output_type": "stream",
     "text": [
      "False\n",
      "False\n"
     ]
    }
   ],
   "source": [
    "s=\"Gitam\"\n",
    "s1=\"gitam\"\n",
    "print(s.istitle())\n",
    "print(s1.istitle())"
   ]
  },
  {
   "cell_type": "code",
   "execution_count": 16,
   "metadata": {},
   "outputs": [
    {
     "name": "stdout",
     "output_type": "stream",
     "text": [
      "P y t h o n\n"
     ]
    }
   ],
   "source": [
    "str =\"Python\"\n",
    "print(\" \".join(str))"
   ]
  },
  {
   "cell_type": "code",
   "execution_count": 17,
   "metadata": {},
   "outputs": [
    {
     "name": "stdout",
     "output_type": "stream",
     "text": [
      "abc,cde,fgh\n"
     ]
    }
   ],
   "source": [
    "print(\",\".join([\"abc\",\"cde\",\"fgh\"]))"
   ]
  },
  {
   "cell_type": "code",
   "execution_count": 23,
   "metadata": {},
   "outputs": [
    {
     "ename": "SyntaxError",
     "evalue": "can't assign to literal (<ipython-input-23-957bbe6cfcd5>, line 1)",
     "output_type": "error",
     "traceback": [
      "\u001b[1;36m  File \u001b[1;32m\"<ipython-input-23-957bbe6cfcd5>\"\u001b[1;36m, line \u001b[1;32m1\u001b[0m\n\u001b[1;33m    1=[\"\",\"\"]\u001b[0m\n\u001b[1;37m             ^\u001b[0m\n\u001b[1;31mSyntaxError\u001b[0m\u001b[1;31m:\u001b[0m can't assign to literal\n"
     ]
    }
   ],
   "source": [
    "1=[\"\",\"\"]\n",
    "print(\",\".join(1))"
   ]
  },
  {
   "cell_type": "code",
   "execution_count": 26,
   "metadata": {},
   "outputs": [
    {
     "name": "stdout",
     "output_type": "stream",
     "text": [
      "['abc,def,ghij']\n",
      "['', 'bc,def,ghij']\n",
      "['abc', 'def', 'ghij']\n"
     ]
    }
   ],
   "source": [
    "s=\"abc,def,ghij\"\n",
    "print(s.split())\n",
    "print(s.split(\"a\"))\n",
    "print(s.split(\",\"))"
   ]
  },
  {
   "cell_type": "code",
   "execution_count": 35,
   "metadata": {},
   "outputs": [
    {
     "name": "stdout",
     "output_type": "stream",
     "text": [
      "['Python', 'is', 'easy', 'to', 'learn']\n",
      "1\n"
     ]
    }
   ],
   "source": [
    "s=\"Python is easy to learn\";\n",
    "lst=s.split();\n",
    "print(lst)\n",
    "print(lst.index(\"is\"))"
   ]
  },
  {
   "cell_type": "code",
   "execution_count": 37,
   "metadata": {},
   "outputs": [
    {
     "name": "stdout",
     "output_type": "stream",
     "text": [
      "['g', 'i', 't', 'a', 'm', ' ', 'i', 's', ' ', 't', 'h', 'a', 't']\n"
     ]
    }
   ],
   "source": [
    "s=\"gitam is that\";\n",
    "lst=list(s);\n",
    "print(lst)"
   ]
  },
  {
   "cell_type": "code",
   "execution_count": 38,
   "metadata": {},
   "outputs": [
    {
     "name": "stdout",
     "output_type": "stream",
     "text": [
      "python programming\n"
     ]
    }
   ],
   "source": [
    "s1=\"c programming\"\n",
    "print(s1.replace(\"c\",\"python\"))"
   ]
  },
  {
   "cell_type": "code",
   "execution_count": 40,
   "metadata": {},
   "outputs": [
    {
     "name": "stdout",
     "output_type": "stream",
     "text": [
      "('abc', 'def', 123, 456, 'ghi', 'AI')\n",
      "(1, 2, 3, 4, 5)\n"
     ]
    }
   ],
   "source": [
    "s1=(\"abc\",\"def\",123,456,\"ghi\",\"AI\")\n",
    "s2=(1,2,3,4,5)\n",
    "print(s1)\n",
    "print(s2)"
   ]
  },
  {
   "cell_type": "code",
   "execution_count": 43,
   "metadata": {},
   "outputs": [
    {
     "name": "stdout",
     "output_type": "stream",
     "text": [
      "('abc', 'def', 123, 456, 'ghi', 'AI')\n"
     ]
    },
    {
     "ename": "TypeError",
     "evalue": "'tuple' object doesn't support item deletion",
     "output_type": "error",
     "traceback": [
      "\u001b[1;31m---------------------------------------------------------------------------\u001b[0m",
      "\u001b[1;31mTypeError\u001b[0m                                 Traceback (most recent call last)",
      "\u001b[1;32m<ipython-input-43-c54c5851de13>\u001b[0m in \u001b[0;36m<module>\u001b[1;34m\u001b[0m\n\u001b[0;32m      2\u001b[0m \u001b[0mprint\u001b[0m\u001b[1;33m(\u001b[0m\u001b[0ms1\u001b[0m\u001b[1;33m)\u001b[0m\u001b[1;33m\u001b[0m\u001b[1;33m\u001b[0m\u001b[0m\n\u001b[0;32m      3\u001b[0m \u001b[1;31m#s1[2]=908\u001b[0m\u001b[1;33m\u001b[0m\u001b[1;33m\u001b[0m\u001b[1;33m\u001b[0m\u001b[0m\n\u001b[1;32m----> 4\u001b[1;33m \u001b[1;32mdel\u001b[0m \u001b[0ms1\u001b[0m\u001b[1;33m[\u001b[0m\u001b[1;36m2\u001b[0m\u001b[1;33m]\u001b[0m\u001b[1;33m\u001b[0m\u001b[1;33m\u001b[0m\u001b[0m\n\u001b[0m",
      "\u001b[1;31mTypeError\u001b[0m: 'tuple' object doesn't support item deletion"
     ]
    }
   ],
   "source": [
    "s1=(\"abc\",\"def\",123,456,\"ghi\",\"AI\")\n",
    "print(s1)\n",
    "#s1[2]=908\n",
    "del s1[2]\n"
   ]
  },
  {
   "cell_type": "code",
   "execution_count": 49,
   "metadata": {},
   "outputs": [
    {
     "name": "stdout",
     "output_type": "stream",
     "text": [
      "('abc', 'def', 123, 456, 'ghi', 'AI')\n"
     ]
    },
    {
     "ename": "NameError",
     "evalue": "name 's1' is not defined",
     "output_type": "error",
     "traceback": [
      "\u001b[1;31m---------------------------------------------------------------------------\u001b[0m",
      "\u001b[1;31mNameError\u001b[0m                                 Traceback (most recent call last)",
      "\u001b[1;32m<ipython-input-49-1d84c9de96e6>\u001b[0m in \u001b[0;36m<module>\u001b[1;34m\u001b[0m\n\u001b[0;32m      2\u001b[0m \u001b[0mprint\u001b[0m\u001b[1;33m(\u001b[0m\u001b[0ms1\u001b[0m\u001b[1;33m)\u001b[0m\u001b[1;33m\u001b[0m\u001b[1;33m\u001b[0m\u001b[0m\n\u001b[0;32m      3\u001b[0m \u001b[1;32mdel\u001b[0m \u001b[0ms1\u001b[0m\u001b[1;33m\u001b[0m\u001b[1;33m\u001b[0m\u001b[0m\n\u001b[1;32m----> 4\u001b[1;33m \u001b[0mprint\u001b[0m\u001b[1;33m(\u001b[0m\u001b[0ms1\u001b[0m\u001b[1;33m)\u001b[0m\u001b[1;33m\u001b[0m\u001b[1;33m\u001b[0m\u001b[0m\n\u001b[0m",
      "\u001b[1;31mNameError\u001b[0m: name 's1' is not defined"
     ]
    }
   ],
   "source": [
    "s1=(\"abc\",\"def\",123,456,\"ghi\",\"AI\");\n",
    "print(s1)\n",
    "del s1\n",
    "print(s1)"
   ]
  },
  {
   "cell_type": "code",
   "execution_count": 50,
   "metadata": {},
   "outputs": [
    {
     "name": "stdout",
     "output_type": "stream",
     "text": [
      "('python', 'programming', 123, 456, 'mp', 'mla')\n"
     ]
    }
   ],
   "source": [
    "s1=(\"python\",\"programming\")\n",
    "s2=(123,456,\"mp\",\"mla\")\n",
    "s3=s1+s2\n",
    "print(s3)"
   ]
  },
  {
   "cell_type": "code",
   "execution_count": 56,
   "metadata": {},
   "outputs": [
    {
     "name": "stdout",
     "output_type": "stream",
     "text": [
      "1\n",
      "9\n"
     ]
    }
   ],
   "source": [
    "s1=(9,2,3,4,1)\n",
    "print(min(s1))\n",
    "print(max(s1))"
   ]
  },
  {
   "cell_type": "code",
   "execution_count": 57,
   "metadata": {},
   "outputs": [
    {
     "name": "stdout",
     "output_type": "stream",
     "text": [
      "('abc', 'def', 123, 456, 'ghi', 'AI')\n",
      "('abc', 'def', 123, 456, 'ghi', 'AI')\n"
     ]
    }
   ],
   "source": [
    "s1=(\"abc\",\"def\",123,456,\"ghi\",\"AI\");\n",
    "print(s1)\n",
    "tuple1=tuple(s1)\n",
    "print(tuple1)"
   ]
  },
  {
   "cell_type": "code",
   "execution_count": 61,
   "metadata": {},
   "outputs": [
    {
     "name": "stdout",
     "output_type": "stream",
     "text": [
      "user[name]= manish\n",
      "user[email id]= manishkanduri@gmail.com\n",
      "user[age]= 19\n",
      "user[mobile num]= 1234567890\n"
     ]
    }
   ],
   "source": [
    "user={'name':'manish','age':'19','email id':'manishkanduri@gmail.com','mobile num':'1234567890'}\n",
    "print(\"user[name]=\",user['name'])\n",
    "print(\"user[email id]=\",user['email id'])\n",
    "print(\"user[age]=\",user['age'])\n",
    "print(\"user[mobile num]=\",user['mobile num'])"
   ]
  },
  {
   "cell_type": "code",
   "execution_count": 73,
   "metadata": {},
   "outputs": [
    {
     "name": "stdout",
     "output_type": "stream",
     "text": [
      "manishkanduri@gmail.com\n",
      "mankandu@gmail.com\n",
      "18\n"
     ]
    }
   ],
   "source": [
    "user={'name':'manish','age':'19','email id':'manishkanduri@gmail.com','mobile num':'1234567890'}\n",
    "print(user['email id'])\n",
    "user['email id']='mankandu@gmail.com'\n",
    "print(user['email id'])\n",
    "user['age']='18'\n",
    "print(user['age'])\n"
   ]
  },
  {
   "cell_type": "code",
   "execution_count": 77,
   "metadata": {},
   "outputs": [],
   "source": [
    "user={'name':'manish','age':'19','email id':'manishkanduri@gmail.com','mobile num':'1234567890'}\n",
    "del user['email id']\n",
    "user.clear()\n",
    "del user"
   ]
  },
  {
   "cell_type": "code",
   "execution_count": 79,
   "metadata": {},
   "outputs": [
    {
     "name": "stdout",
     "output_type": "stream",
     "text": [
      "4\n",
      "5\n"
     ]
    }
   ],
   "source": [
    "user={'name':'manish','age':'19','email id':'manishkanduri@gmail.com','mobile num':'1234567890'}\n",
    "print(len(user))\n",
    "user['adderss']='hyd'\n",
    "print(len(user))\n"
   ]
  },
  {
   "cell_type": "code",
   "execution_count": 80,
   "metadata": {},
   "outputs": [
    {
     "ename": "TypeError",
     "evalue": "'str' object is not callable",
     "output_type": "error",
     "traceback": [
      "\u001b[1;31m---------------------------------------------------------------------------\u001b[0m",
      "\u001b[1;31mTypeError\u001b[0m                                 Traceback (most recent call last)",
      "\u001b[1;32m<ipython-input-80-909a64d81809>\u001b[0m in \u001b[0;36m<module>\u001b[1;34m\u001b[0m\n\u001b[0;32m      1\u001b[0m \u001b[0muser\u001b[0m\u001b[1;33m=\u001b[0m\u001b[1;33m{\u001b[0m\u001b[1;34m'name'\u001b[0m\u001b[1;33m:\u001b[0m\u001b[1;34m'manish'\u001b[0m\u001b[1;33m,\u001b[0m\u001b[1;34m'age'\u001b[0m\u001b[1;33m:\u001b[0m\u001b[1;34m'19'\u001b[0m\u001b[1;33m,\u001b[0m\u001b[1;34m'email id'\u001b[0m\u001b[1;33m:\u001b[0m\u001b[1;34m'manishkanduri@gmail.com'\u001b[0m\u001b[1;33m,\u001b[0m\u001b[1;34m'mobile num'\u001b[0m\u001b[1;33m:\u001b[0m\u001b[1;34m'1234567890'\u001b[0m\u001b[1;33m}\u001b[0m\u001b[1;33m\u001b[0m\u001b[1;33m\u001b[0m\u001b[0m\n\u001b[1;32m----> 2\u001b[1;33m \u001b[0mprint\u001b[0m\u001b[1;33m(\u001b[0m\u001b[0mstr\u001b[0m\u001b[1;33m(\u001b[0m\u001b[0muser\u001b[0m\u001b[1;33m)\u001b[0m\u001b[1;33m)\u001b[0m\u001b[1;33m\u001b[0m\u001b[1;33m\u001b[0m\u001b[0m\n\u001b[0m",
      "\u001b[1;31mTypeError\u001b[0m: 'str' object is not callable"
     ]
    }
   ],
   "source": [
    "user={'name':'manish','age':'19','email id':'manishkanduri@gmail.com','mobile num':'1234567890'}\n",
    "print(str(user))"
   ]
  },
  {
   "cell_type": "code",
   "execution_count": 85,
   "metadata": {},
   "outputs": [
    {
     "name": "stdout",
     "output_type": "stream",
     "text": [
      "{'name': 'manish', 'age': '19', 'email id': 'manishkanduri@gmail.com', 'mobile num': '1234567890'}\n",
      "{'name': 'manish', 'age': '19', 'email id': 'manishkanduri@gmail.com', 'mobile num': '1234567890'}\n",
      "{'name': 'manish', 'age': '19', 'email id': 'manishkanduri@gmail.com', 'mobile num': '1234567890', 'adderss': 'hyd'}\n",
      "{'name': 'manish', 'age': '19', 'email id': 'manishkanduri@gmail.com', 'mobile num': '1234567890'}\n"
     ]
    }
   ],
   "source": [
    "user={'name':'manish','age':'19','email id':'manishkanduri@gmail.com','mobile num':'1234567890'}\n",
    "user2=user.copy()\n",
    "print(user)\n",
    "print(user2)\n",
    "user['adderss']='hyd'\n",
    "print(user)\n",
    "print(user2)"
   ]
  },
  {
   "cell_type": "code",
   "execution_count": 86,
   "metadata": {},
   "outputs": [
    {
     "name": "stdout",
     "output_type": "stream",
     "text": [
      "dict_items([('name', 'manish'), ('age', '19'), ('email id', 'manishkanduri@gmail.com'), ('mobile num', '1234567890')])\n"
     ]
    }
   ],
   "source": [
    "user={'name':'manish','age':'19','email id':'manishkanduri@gmail.com','mobile num':'1234567890'}\n",
    "print(user.items())"
   ]
  },
  {
   "cell_type": "code",
   "execution_count": 88,
   "metadata": {},
   "outputs": [
    {
     "name": "stdout",
     "output_type": "stream",
     "text": [
      "dict_values(['manish', '19', 'manishkanduri@gmail.com', '1234567890'])\n",
      "dict_values(['manish', '19', 'manishkanduri@gmail.com', '1234567890'])\n"
     ]
    }
   ],
   "source": [
    "user={'name':'manish','age':'19','email id':'manishkanduri@gmail.com','mobile num':'1234567890'}\n",
    "user2=user.copy()\n",
    "print(user.values())\n",
    "print(user2.values())"
   ]
  },
  {
   "cell_type": "code",
   "execution_count": 90,
   "metadata": {},
   "outputs": [
    {
     "name": "stdout",
     "output_type": "stream",
     "text": [
      "python java\n"
     ]
    }
   ],
   "source": [
    "#string format\n",
    "lst=['python','java']\n",
    "print(\"%s %s\"%(lst[0],lst[1]))\n"
   ]
  },
  {
   "cell_type": "code",
   "execution_count": 95,
   "metadata": {},
   "outputs": [
    {
     "name": "stdout",
     "output_type": "stream",
     "text": [
      "python java\n"
     ]
    }
   ],
   "source": [
    "#formate method\n",
    "lst=['python','java']\n",
    "print(\"{0} {1}\".format(lst[0],lst[1]))"
   ]
  },
  {
   "cell_type": "code",
   "execution_count": 97,
   "metadata": {},
   "outputs": [
    {
     "name": "stdout",
     "output_type": "stream",
     "text": [
      "contact anil added\n",
      "contact bnil added\n",
      "contact cnil added\n"
     ]
    }
   ],
   "source": [
    "#contact application\n",
    "contacts={}\n",
    "def addcontact(name,phone):\n",
    "    if name not in contacts:\n",
    "        contacts[name]=phone\n",
    "        print(\"contact %s added\" % name)\n",
    "    else:\n",
    "         print(\"contact %s already exists\" % name)\n",
    "    return\n",
    "addcontact(\"anil\",1234567890)\n",
    "addcontact(\"bnil\",1234567890)\n",
    "addcontact(\"cnil\",1234567890)"
   ]
  },
  {
   "cell_type": "code",
   "execution_count": 107,
   "metadata": {},
   "outputs": [
    {
     "name": "stdout",
     "output_type": "stream",
     "text": [
      "contact nil does'nt exists\n",
      "bnil : 1234567890\n",
      "contact cnl does'nt exists\n"
     ]
    }
   ],
   "source": [
    "def searchcontact(name):\n",
    "    if name in contacts:\n",
    "            print(name,\":\",contacts[name])\n",
    "    else:\n",
    "            print(\"contact %s does'nt exists\" % name)\n",
    "    return\n",
    "searchcontact(\"nil\")\n",
    "searchcontact(\"bnil\")\n",
    "searchcontact(\"cnl\")"
   ]
  },
  {
   "cell_type": "code",
   "execution_count": 105,
   "metadata": {},
   "outputs": [
    {
     "name": "stdout",
     "output_type": "stream",
     "text": [
      "{'anil': 1234567890, 'bnil': 1234567890, 'cnil': 1234567890}\n"
     ]
    }
   ],
   "source": [
    "print(contacts)"
   ]
  },
  {
   "cell_type": "code",
   "execution_count": 112,
   "metadata": {},
   "outputs": [
    {
     "name": "stdout",
     "output_type": "stream",
     "text": [
      "2 contacts added succesfully\n"
     ]
    }
   ],
   "source": [
    "def importcontacts(newcontacts):\n",
    "    contacts.update(newcontacts)\n",
    "    print(len(newcontacts.keys()),\"contacts added succesfully\")\n",
    "    return\n",
    "newcontacts={'abc':98765675676,'def':3214567654}\n",
    "importcontacts(newcontacts)"
   ]
  },
  {
   "cell_type": "code",
   "execution_count": 114,
   "metadata": {},
   "outputs": [
    {
     "name": "stdout",
     "output_type": "stream",
     "text": [
      "{'anil': 1234567890, 'bnil': 1234567890, 'cnil': 1234567890, 'abc': 98765675676, 'def': 3214567654}\n"
     ]
    }
   ],
   "source": [
    "print(contacts)"
   ]
  },
  {
   "cell_type": "code",
   "execution_count": 117,
   "metadata": {},
   "outputs": [
    {
     "name": "stdout",
     "output_type": "stream",
     "text": [
      "bgjkg not existed\n",
      "etre not existed\n"
     ]
    }
   ],
   "source": [
    "#remove contact\n",
    "def deletecontacts(name):\n",
    "    if name in contacts:\n",
    "        del contacts[name]\n",
    "        print(name,\": is deleted\")\n",
    "    else:    \n",
    "          print(name,\"not existed\")\n",
    "    return \n",
    "deletecontacts(\"bgjkg\")\n",
    "deletecontacts(\"etre\")"
   ]
  },
  {
   "cell_type": "code",
   "execution_count": 121,
   "metadata": {},
   "outputs": [
    {
     "name": "stdout",
     "output_type": "stream",
     "text": [
      "anil :update new num\n",
      "an not existed\n"
     ]
    }
   ],
   "source": [
    "def updatecontacts(name,phone):\n",
    "    if name in contacts:\n",
    "        contacts[name]=phone\n",
    "        print(name,\":update new num\")\n",
    "    else:\n",
    "        print(name,\"not existed\")\n",
    "    return\n",
    "updatecontacts(\"anil\",9890890989)\n",
    "updatecontacts(\"an\",9890890989)"
   ]
  },
  {
   "cell_type": "code",
   "execution_count": 122,
   "metadata": {},
   "outputs": [
    {
     "name": "stdout",
     "output_type": "stream",
     "text": [
      "{'anil': 9890890989, 'bnil': 1234567890, 'cnil': 1234567890, 'abc': 98765675676, 'def': 3214567654}\n"
     ]
    }
   ],
   "source": [
    "print(contacts)"
   ]
  },
  {
   "cell_type": "code",
   "execution_count": null,
   "metadata": {},
   "outputs": [],
   "source": []
  }
 ],
 "metadata": {
  "kernelspec": {
   "display_name": "Python 3",
   "language": "python",
   "name": "python3"
  },
  "language_info": {
   "codemirror_mode": {
    "name": "ipython",
    "version": 3
   },
   "file_extension": ".py",
   "mimetype": "text/x-python",
   "name": "python",
   "nbconvert_exporter": "python",
   "pygments_lexer": "ipython3",
   "version": "3.7.3"
  }
 },
 "nbformat": 4,
 "nbformat_minor": 2
}
