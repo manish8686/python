{
 "cells": [
  {
   "cell_type": "code",
   "execution_count": 6,
   "metadata": {},
   "outputs": [
    {
     "name": "stdout",
     "output_type": "stream",
     "text": [
      "30\n"
     ]
    }
   ],
   "source": [
    "def printEven(n):\n",
    "    cnt=0\n",
    "    sum=0\n",
    "    while(cnt!=n):\n",
    "        if(cnt%2==0):\n",
    "            sum=sum+cnt\n",
    "        cnt=cnt+1\n",
    "    return sum\n",
    "print(printEven(12))"
   ]
  },
  {
   "cell_type": "code",
   "execution_count": 2,
   "metadata": {},
   "outputs": [
    {
     "name": "stdout",
     "output_type": "stream",
     "text": [
      "1 2 3 4 6 "
     ]
    }
   ],
   "source": [
    "def factorsList(n):\n",
    "    i=1;\n",
    "    while(i!=n):\n",
    "        if(n%i==0):\n",
    "            print(i,end=\" \");\n",
    "        i=i+1;\n",
    "    return;\n",
    "factorsList(12)"
   ]
  },
  {
   "cell_type": "code",
   "execution_count": 15,
   "metadata": {},
   "outputs": [
    {
     "name": "stdout",
     "output_type": "stream",
     "text": [
      "[1, 2, 3, 4, 5]\n",
      "2\n"
     ]
    }
   ],
   "source": [
    "list1=[1,2,3,4,5];\n",
    "#enter list\n",
    "print(list1);\n",
    "#list[0]\n",
    "print(list1[1])"
   ]
  },
  {
   "cell_type": "code",
   "execution_count": 18,
   "metadata": {},
   "outputs": [
    {
     "name": "stdout",
     "output_type": "stream",
     "text": [
      "abc\n",
      "aef\n",
      "ahi\n",
      "akl\n"
     ]
    }
   ],
   "source": [
    "list2=[\"abc\",\"aef\",\"ahi\",\"akl\"];\n",
    "for x in list2:\n",
    "     print(x);"
   ]
  },
  {
   "cell_type": "code",
   "execution_count": 37,
   "metadata": {},
   "outputs": [
    {
     "name": "stdout",
     "output_type": "stream",
     "text": [
      "1\n",
      "2\n",
      "3\n",
      "4\n",
      "5\n",
      "6\n",
      "7\n",
      "\n",
      "4\n",
      "[1, 2, 3]\n",
      "[4, 5, 6]\n",
      "[1, 2, 3, 4, 5, 6, 7]\n"
     ]
    }
   ],
   "source": [
    "#list example with particular index\n",
    "list=[1,2,3,4,5,6,7]\n",
    "for x in list:\n",
    "    print(x)\n",
    "    \n",
    "print();\n",
    "print(list[3]);\n",
    "print(list[:3]);\n",
    "print(list[3:6]);\n",
    "print(list[0:7]);\n",
    "\n"
   ]
  },
  {
   "cell_type": "markdown",
   "metadata": {},
   "source": []
  },
  {
   "cell_type": "code",
   "execution_count": 48,
   "metadata": {},
   "outputs": [
    {
     "name": "stdout",
     "output_type": "stream",
     "text": [
      "1\n",
      "2\n",
      "3\n",
      "4\n",
      "5\n",
      "6\n",
      "7\n",
      "8\n",
      "9\n",
      "10\n",
      "\n",
      "[1, 2, 3, 4, 5, 6, 7, 8, 9, 10]\n",
      "[2, 3, 4, 5, 6, 7, 8, 9]\n",
      "[2, 3, 4, 5, 6, 7]\n",
      "[1, 3, 5, 7, 9]\n",
      "[1, 4, 7, 10]\n",
      "[1, 6]\n",
      "[10, 9, 8, 7, 6, 5, 4, 3, 2, 1]\n",
      "[10, 8, 6, 4, 2]\n"
     ]
    }
   ],
   "source": [
    "list=[1,2,3,4,5,6,7,8,9,10]\n",
    "for x in list:\n",
    "     print(x)\n",
    "    \n",
    "print();\n",
    "print(list[0:10]);\n",
    "print(list[1:-1]);\n",
    "print(list[1:-3]);\n",
    "print(list[::2]);\n",
    "print(list[::3]);\n",
    "print(list[::5]);\n",
    "print(list[::-1]);\n",
    "print(list[::-2]);"
   ]
  },
  {
   "cell_type": "code",
   "execution_count": 74,
   "metadata": {},
   "outputs": [
    {
     "name": "stdout",
     "output_type": "stream",
     "text": [
      "['wqrqr', 'fsd', 'wer', 'erw']\n",
      "['wqrqr', 'fsd', 15, 'erw']\n",
      "['wqrqr', 'fsd', 15]\n",
      "['wqrqr', 'gitam', 15]\n",
      "[1, 2, 3]\n",
      "['wqrqr', 'gitam', 15, 1, 2, 3]\n",
      "3\n",
      "['wqrqr', 'gitam', 15, 1990]\n",
      "0\n",
      "0\n"
     ]
    }
   ],
   "source": [
    "#list with range()\n",
    "list=[\"wqrqr\",\"fsd\",\"wer\",\"erw\"];\n",
    "print(list);\n",
    "\n",
    "list[2]=15;\n",
    "print(list);\n",
    "\n",
    "del list[3];\n",
    "print(list);\n",
    "\n",
    "list [1]=\"gitam\"\n",
    "print(list);\n",
    "lis=[1,2,3];\n",
    "print(lis);\n",
    "print(list+lis);\n",
    "print(len(lis));\n",
    "list.append(1990);\n",
    "print(list);\n",
    "print(list.count(1))\n",
    "print(list.count(2))"
   ]
  },
  {
   "cell_type": "code",
   "execution_count": 115,
   "metadata": {},
   "outputs": [
    {
     "name": "stdout",
     "output_type": "stream",
     "text": [
      "['ab', 'cd', 'ef', 1, 5, 'gh']\n",
      "['ab', 'cd', 1999, 'ef', 1, 5, 'gh']\n",
      "7\n",
      "['ab', 1999, 'ef', 1, 5, 'gh']\n",
      "['gh', 5, 1, 'ef', 1999, 'ab']\n"
     ]
    }
   ],
   "source": [
    "lst1=[\"ab\",\"cd\",\"ef\",1,5,\"gh\"];\n",
    "print(lst1)\n",
    "lst1.index(\"cd\")\n",
    "lst1.index(1)\n",
    "lst1.insert(2,1999)\n",
    "print(lst1)\n",
    "print(len(lst1))\n",
    "lst1.remove(\"cd\")\n",
    "print(lst1)\n",
    "lst1.reverse()\n",
    "print(lst1)"
   ]
  },
  {
   "cell_type": "code",
   "execution_count": 1,
   "metadata": {},
   "outputs": [
    {
     "name": "stdout",
     "output_type": "stream",
     "text": [
      "7\n",
      "found\n"
     ]
    }
   ],
   "source": [
    "def linearsearch(a,n):\n",
    "    flag=0;\n",
    "    for i in range(len(a)):\n",
    "        if a[i]==n:\n",
    "      \n",
    "            k=n;\n",
    "            flag=1;\n",
    "            break\n",
    "    if(flag!=0):\n",
    "        print(k);\n",
    "        print(\"found\")\n",
    "    else:\n",
    "        print(\"not found\")\n",
    "        print(a)\n",
    "a=[16,2,12,6,9,7,2]\n",
    "linearsearch(a,7)"
   ]
  },
  {
   "cell_type": "code",
   "execution_count": 22,
   "metadata": {},
   "outputs": [
    {
     "name": "stdout",
     "output_type": "stream",
     "text": [
      "1\n",
      "4\n",
      "7\n"
     ]
    }
   ],
   "source": [
    "def linear(a,n):\n",
    "    flag=0;\n",
    "    for x in range(len(a)):\n",
    "        if a[x]==n:\n",
    "            print(x); \n",
    "  \n",
    "a=[1,5,9,6,5,15,12,5]\n",
    "linear(a,5)"
   ]
  },
  {
   "cell_type": "code",
   "execution_count": 31,
   "metadata": {},
   "outputs": [
    {
     "name": "stdout",
     "output_type": "stream",
     "text": [
      "! ! \n",
      "! ! ! ! ! \n",
      "! ! ! ! ! ! ! ! \n"
     ]
    }
   ],
   "source": [
    "def linear(a,n):\n",
    "     for i in range(len(a)):\n",
    "        if a[i]==n:\n",
    "            j=0\n",
    "            while j!=i+1:\n",
    "                print(\"!\",end=\" \")\n",
    "                j=j+1\n",
    "            print()\n",
    "a=[1,5,9,6,5,15,12,5]\n",
    "linear(a,5)"
   ]
  },
  {
   "cell_type": "code",
   "execution_count": 44,
   "metadata": {},
   "outputs": [
    {
     "name": "stdout",
     "output_type": "stream",
     "text": [
      "60\n"
     ]
    }
   ],
   "source": [
    "#3\n",
    "def linear(a,n):\n",
    "    sum=0;\n",
    "    for x in range(len(a)):\n",
    "        if a[x]%3==0 and a[x]%5==0:\n",
    "            sum=sum+a[x];\n",
    "    return sum;\n",
    "        \n",
    "a=[15,12,2,9,18,36,45]\n",
    "\n",
    "print(linear(a,5))"
   ]
  },
  {
   "cell_type": "code",
   "execution_count": 53,
   "metadata": {},
   "outputs": [
    {
     "name": "stdout",
     "output_type": "stream",
     "text": [
      "1\n"
     ]
    },
    {
     "ename": "TypeError",
     "evalue": "'int' object is not subscriptable",
     "output_type": "error",
     "traceback": [
      "\u001b[1;31m---------------------------------------------------------------------------\u001b[0m",
      "\u001b[1;31mTypeError\u001b[0m                                 Traceback (most recent call last)",
      "\u001b[1;32m<ipython-input-53-d5da0d41b326>\u001b[0m in \u001b[0;36m<module>\u001b[1;34m\u001b[0m\n\u001b[0;32m     14\u001b[0m \u001b[1;33m\u001b[0m\u001b[0m\n\u001b[0;32m     15\u001b[0m \u001b[0ma\u001b[0m\u001b[1;33m=\u001b[0m\u001b[1;33m[\u001b[0m\u001b[1;36m1\u001b[0m\u001b[1;33m,\u001b[0m\u001b[1;36m2\u001b[0m\u001b[1;33m,\u001b[0m\u001b[1;36m3\u001b[0m\u001b[1;33m,\u001b[0m\u001b[1;36m4\u001b[0m\u001b[1;33m,\u001b[0m\u001b[1;36m5\u001b[0m\u001b[1;33m]\u001b[0m\u001b[1;33m;\u001b[0m\u001b[1;33m\u001b[0m\u001b[1;33m\u001b[0m\u001b[0m\n\u001b[1;32m---> 16\u001b[1;33m \u001b[0mprint\u001b[0m\u001b[1;33m(\u001b[0m\u001b[0mlinearformattedoutput\u001b[0m\u001b[1;33m(\u001b[0m\u001b[0ma\u001b[0m\u001b[1;33m,\u001b[0m\u001b[1;36m5\u001b[0m\u001b[1;33m)\u001b[0m\u001b[1;33m)\u001b[0m\u001b[1;33m;\u001b[0m\u001b[1;33m\u001b[0m\u001b[1;33m\u001b[0m\u001b[0m\n\u001b[0m\u001b[0;32m     17\u001b[0m \u001b[1;33m\u001b[0m\u001b[0m\n",
      "\u001b[1;32m<ipython-input-53-d5da0d41b326>\u001b[0m in \u001b[0;36mlinearformattedoutput\u001b[1;34m(a, n)\u001b[0m\n\u001b[0;32m      6\u001b[0m             \u001b[0mprint\u001b[0m\u001b[1;33m(\u001b[0m\u001b[0ma\u001b[0m\u001b[1;33m[\u001b[0m\u001b[0mx\u001b[0m\u001b[1;33m]\u001b[0m\u001b[1;33m)\u001b[0m\u001b[1;33m;\u001b[0m\u001b[1;33m\u001b[0m\u001b[1;33m\u001b[0m\u001b[0m\n\u001b[0;32m      7\u001b[0m         \u001b[1;32melse\u001b[0m\u001b[1;33m:\u001b[0m\u001b[1;33m\u001b[0m\u001b[1;33m\u001b[0m\u001b[0m\n\u001b[1;32m----> 8\u001b[1;33m             \u001b[0mt\u001b[0m\u001b[1;33m=\u001b[0m\u001b[1;36m0\u001b[0m\u001b[1;33m[\u001b[0m\u001b[0mx\u001b[0m\u001b[1;33m-\u001b[0m\u001b[1;36m1\u001b[0m\u001b[1;33m]\u001b[0m\u001b[1;33m*\u001b[0m\u001b[0ma\u001b[0m\u001b[1;33m[\u001b[0m\u001b[0mx\u001b[0m\u001b[1;33m+\u001b[0m\u001b[1;36m1\u001b[0m\u001b[1;33m]\u001b[0m\u001b[1;33m;\u001b[0m\u001b[1;33m\u001b[0m\u001b[1;33m\u001b[0m\u001b[0m\n\u001b[0m\u001b[0;32m      9\u001b[0m             \u001b[0mprint\u001b[0m\u001b[1;33m(\u001b[0m\u001b[0mt\u001b[0m\u001b[1;33m)\u001b[0m\u001b[1;33m;\u001b[0m\u001b[1;33m\u001b[0m\u001b[1;33m\u001b[0m\u001b[0m\n\u001b[0;32m     10\u001b[0m \u001b[1;33m\u001b[0m\u001b[0m\n",
      "\u001b[1;31mTypeError\u001b[0m: 'int' object is not subscriptable"
     ]
    }
   ],
   "source": [
    "def linearformattedoutput(a,n):\n",
    "    sum=0;\n",
    "    for x in range(len(a)):\n",
    "        t=0;\n",
    "        if(x==0 or x==(len(a)-1)):\n",
    "            print(a[x]);\n",
    "        else:\n",
    "            t=0[x-1]*a[x+1];\n",
    "            print(t);\n",
    "    \n",
    "    \n",
    "    \n",
    "    \n",
    "    \n",
    "a=[1,2,3,4,5];\n",
    "print(linearformattedoutput(a,5));\n",
    "    "
   ]
  },
  {
   "cell_type": "code",
   "execution_count": null,
   "metadata": {},
   "outputs": [],
   "source": []
  },
  {
   "cell_type": "code",
   "execution_count": null,
   "metadata": {},
   "outputs": [],
   "source": []
  },
  {
   "cell_type": "code",
   "execution_count": null,
   "metadata": {},
   "outputs": [],
   "source": []
  },
  {
   "cell_type": "code",
   "execution_count": null,
   "metadata": {},
   "outputs": [],
   "source": []
  },
  {
   "cell_type": "code",
   "execution_count": null,
   "metadata": {},
   "outputs": [],
   "source": []
  }
 ],
 "metadata": {
  "kernelspec": {
   "display_name": "Python 3",
   "language": "python",
   "name": "python3"
  },
  "language_info": {
   "codemirror_mode": {
    "name": "ipython",
    "version": 3
   },
   "file_extension": ".py",
   "mimetype": "text/x-python",
   "name": "python",
   "nbconvert_exporter": "python",
   "pygments_lexer": "ipython3",
   "version": "3.7.3"
  }
 },
 "nbformat": 4,
 "nbformat_minor": 2
}
